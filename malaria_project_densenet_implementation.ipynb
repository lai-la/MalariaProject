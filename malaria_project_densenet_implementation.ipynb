{
 "cells": [
  {
   "cell_type": "markdown",
   "metadata": {},
   "source": [
    "# Malaria Project - DenseNet Implementation\n",
    "## Detecting Malaria cells using CNN and TF 2.0\n",
    "\n",
    "\n",
    "### By:\n",
    "- Lukas Wagner s0556753\n",
    "- Laila Westphal s0556469\n"
   ]
  },
  {
   "cell_type": "markdown",
   "metadata": {},
   "source": [
    "\n",
    "\n",
    "## Table of Contents: \n",
    "\n",
    "1. [Loading the dataset](#Imports): Load the data into two lists(Infected,Uninfected) and import the dependencies.\n",
    "2. [Data Preprocessing](#Preprocessing): \n",
    "  * Reading the images and labels into two list(`data[]`, `labels[]`).\n",
    "  * Plotting one Parasitized and one Uninfected image with their respective labels.\n",
    "5. [Image Augmentation](#Image-Augmentation): Augment the train and validation data using Imgaug library.\n",
    "4. [Creating the Model](#Create-DenseNet): Create a CNN model in KERAS using the DenseNet architecture.\n",
    "4. [Split Train and Test Data](#Split-Train-and-Test-Data): Split train, test and evaluate data using scikit-learn.\n",
    "5. [Training the DenseNet](#Train-DenseNet): Adapt the models parameters with `model.fit()`.\n",
    "4. [Evaluation](#Evaluate-DenseNet-Accuracy): Display the plots from the training history.\n",
    "5. [Submission](#Save-Results-To-CSV): Run predictions with `model.predict()`.\n",
    "\n"
   ]
  },
  {
   "cell_type": "markdown",
   "metadata": {},
   "source": [
    "## Introduction\n",
    "## Kernel 2: Keras Densenet Malaria\n",
    "### By: Wentz, V.\n",
    "Source:https://www.kaggle.com/vinicioswentz/keras-densenet-malaria\n",
    "\n",
    "\n",
    "#### Data Augmentation:\n",
    "- Done using the Imgaug library that provides support for opening, editing and saving many different data formats\n",
    "- The quantity of the \"Parasitized\" data is being quadrupled.\n",
    "- The quantity of the \"Uninfected\" data is being tripled.\n",
    "\n",
    "#### Data-Split:\n",
    "The data in this kernel is being split into training, evaluation and test data:\n",
    "   - training-data: 80%\n",
    "   - evaluation-data: 10%\n",
    "   - test-data: 10%\n",
    "\n",
    "#### Used CNN-Architecture:\n",
    "\n",
    "`DenseNet121()` - by Keras. For further information please see the \"Malaria Project - Theoretical Background.ipynb\". It contains a small discussion on the paper, which the Keras-provided CNN-Architecture Implementation is referencing."
   ]
  },
  {
   "cell_type": "markdown",
   "metadata": {},
   "source": [
    "## Imports"
   ]
  },
  {
   "cell_type": "code",
   "execution_count": null,
   "metadata": {
    "_cell_guid": "b1076dfc-b9ad-4769-8c92-a6c4dae69d19",
    "_uuid": "8f2839f25d086af736a60e9eeb907d3b93b6e0e5"
   },
   "outputs": [],
   "source": [
    "import numpy as np # linear algebra\n",
    "import pandas as pd # data processing, CSV file I/O \n",
    "import tensorflow as tf\n",
    "\n",
    "from tensorflow.keras.preprocessing.image import ImageDataGenerator\n",
    "from PIL import Image\n",
    "import cv2\n",
    "from os import listdir\n",
    "\n",
    "import matplotlib.pyplot as plt\n",
    "import seaborn as sns"
   ]
  },
  {
   "cell_type": "code",
   "execution_count": null,
   "metadata": {},
   "outputs": [],
   "source": [
    "INPUT_SHAPE = (50, 50, 3)\n",
    "INFECTED = listdir('data/cell_images/Parasitized/') \n",
    "UNINFECTED = listdir('data/cell_images/Uninfected/')"
   ]
  },
  {
   "cell_type": "markdown",
   "metadata": {},
   "source": [
    "## Preprocessing"
   ]
  },
  {
   "cell_type": "code",
   "execution_count": null,
   "metadata": {},
   "outputs": [],
   "source": [
    "data = []\n",
    "labels = []\n",
    "\n",
    "def preprocess_images():\n",
    "    \n",
    "    for i in INFECTED:\n",
    "        if i.endswith('.png'):         \n",
    "\n",
    "            image = cv2.imread(\"data/cell_images/Parasitized/\"+i)\n",
    "            image_array = Image.fromarray(image , 'RGB')\n",
    "            resize_img = image_array.resize((50 , 50)) #for matrix operations\n",
    "            data.append(np.array(resize_img))\n",
    "            labels.append(1)\n",
    "\n",
    "\n",
    "    for u in UNINFECTED:\n",
    "        if u.endswith('.png'):\n",
    "\n",
    "            image = cv2.imread(\"data/cell_images/Uninfected/\"+u)\n",
    "            image_array = Image.fromarray(image , 'RGB')\n",
    "            resize_img = image_array.resize((50 , 50)) #for matrix operations\n",
    "            data.append(np.array(resize_img))\n",
    "            labels.append(0)\n",
    "            \n",
    "            \n",
    "preprocess_images()"
   ]
  },
  {
   "cell_type": "markdown",
   "metadata": {},
   "source": [
    "## Visualize data\n",
    " Show one cell from each class."
   ]
  },
  {
   "cell_type": "code",
   "execution_count": null,
   "metadata": {},
   "outputs": [],
   "source": [
    "plt.figure(1, figsize = (15 , 7))\n",
    "plt.subplot(1 , 2 , 1)\n",
    "plt.imshow(data[0])\n",
    "plt.title('Infected Cell')\n",
    "plt.xticks([]) , plt.yticks([])\n",
    "\n",
    "plt.subplot(1 , 2 , 2)\n",
    "plt.imshow(data[len(data)-1]) \n",
    "plt.title('Uninfected Cell')\n",
    "plt.xticks([]) , plt.yticks([])\n",
    "\n",
    "plt.show()"
   ]
  },
  {
   "cell_type": "markdown",
   "metadata": {},
   "source": [
    "## Image Augmentation\n",
    "Resize, flip, blur, rotate and vary the color of the images."
   ]
  },
  {
   "cell_type": "code",
   "execution_count": null,
   "metadata": {},
   "outputs": [],
   "source": [
    "import imgaug.augmenters as iaa\n",
    "\n",
    "def augment_images(data, labels):\n",
    "    images_aug = []\n",
    "    labels_aug= []\n",
    "    \n",
    "    resized_images = iaa.Crop(px=(0, 5))(images=data)\n",
    "    flipped_images = iaa.Fliplr(1.0)(images=data)\n",
    "    blurred_images = iaa.GaussianBlur(sigma=(0, 1.0))(images=data)\n",
    "    colorchanged_images = iaa.LinearContrast(alpha=(0.25, 1.75),per_channel=True)(images=data)\n",
    "    \n",
    "    #rotated_images =[]\n",
    "    #for index, img in data:\n",
    "        #rotated_images[index] = iaa.Affine(rotate=(-45, 45))(image=img)\n",
    "        #iaa.WithChannels(0, iaa.Add((10, 100))) (image=data[0])\n",
    "        \n",
    "    lists_aug = [resized_images, flipped_images, blurred_images, colorchanged_images]\n",
    "    \n",
    "    counter=0\n",
    "    for list_aug in lists_aug:\n",
    "        for image in list_aug:\n",
    "            images_aug.append(np.array(image))\n",
    "            labels_aug.append(labels[counter])\n",
    "            counter+=1\n",
    "            if counter >= len(labels):\n",
    "                counter = 0\n",
    "            \n",
    "    return images_aug, labels_aug\n",
    "               \n",
    "\n",
    "images_aug, labels_aug = augment_images(data, labels)\n",
    "data+=images_aug\n",
    "labels+=labels_aug"
   ]
  },
  {
   "cell_type": "code",
   "execution_count": null,
   "metadata": {},
   "outputs": [],
   "source": [
    "#just for debugging\n",
    "print(len(images_aug))\n",
    "print(len(data))\n",
    "print(len(labels))"
   ]
  },
  {
   "cell_type": "markdown",
   "metadata": {},
   "source": [
    "## Visualize Augmented Data"
   ]
  },
  {
   "cell_type": "code",
   "execution_count": null,
   "metadata": {},
   "outputs": [],
   "source": [
    "plt.figure(figsize = (20, 20))\n",
    "for i in range(40):\n",
    "    r = np.random.randint(len(images_aug))\n",
    "    ax = plt.subplot(8, 5, i+1)\n",
    "    ax.axis('off')\n",
    "    plt.imshow(images_aug[r])    "
   ]
  },
  {
   "cell_type": "markdown",
   "metadata": {},
   "source": [
    "## Save Data To NYP "
   ]
  },
  {
   "cell_type": "code",
   "execution_count": null,
   "metadata": {},
   "outputs": [],
   "source": [
    "cells = np.array(data)\n",
    "labels = np.array(labels)\n",
    "\n",
    "np.save('cells' , cells)\n",
    "np.save('labels' , labels)"
   ]
  },
  {
   "cell_type": "markdown",
   "metadata": {},
   "source": [
    "## Load Data From NYP "
   ]
  },
  {
   "cell_type": "code",
   "execution_count": null,
   "metadata": {},
   "outputs": [],
   "source": [
    "cells = np.load(\"cells.npy\")\n",
    "labels = np.load(\"labels.npy\")"
   ]
  },
  {
   "cell_type": "markdown",
   "metadata": {},
   "source": [
    "## Create DenseNet"
   ]
  },
  {
   "cell_type": "code",
   "execution_count": null,
   "metadata": {},
   "outputs": [],
   "source": [
    "from tensorflow.keras.applications.densenet import DenseNet169, DenseNet201, DenseNet121 #just in case\n",
    "from tensorflow.keras.layers import Input, Flatten, Dense, BatchNormalization, Activation, Dropout, GlobalAveragePooling2D, GlobalMaxPooling2D, Concatenate\n",
    "from tensorflow.keras.models import Model, load_model\n",
    "from tensorflow.keras import losses, optimizers, activations, metrics"
   ]
  },
  {
   "cell_type": "markdown",
   "metadata": {},
   "source": [
    "#### DenseNet Class\n",
    "`create_model()` builds the CNN model with the 121 layers counting DenseNet version of Keras plus some extra layers to ... \n",
    "With the parameters: lossfuntion, optimizer and metric the model will be compiled and returned."
   ]
  },
  {
   "cell_type": "code",
   "execution_count": null,
   "metadata": {},
   "outputs": [],
   "source": [
    "class DenseNet:\n",
    "    def __init__(self, loss, optmizer, metrics):\n",
    "        self.loss = loss\n",
    "        self.optimizer = optmizer\n",
    "        self.metrics = metrics\n",
    "    \n",
    "    def create_model(self, output_space: int) -> Model:\n",
    "        base_model = DenseNet121(input_shape=INPUT_SHAPE, include_top=False)\n",
    "        out0 = base_model.output\n",
    "        out1 = GlobalMaxPooling2D()(out0)\n",
    "        out2 = GlobalAveragePooling2D()(out0)\n",
    "        out3 = Flatten()(out0)\n",
    "        out = Concatenate(axis=-1)([out1, out2, out3])\n",
    "        out = Dropout(0.5)(out)\n",
    "        \n",
    "        predictions = Dense(output_space, activation=\"sigmoid\")(out)\n",
    "        \n",
    "        model = Model(inputs=base_model.input, outputs=predictions)\n",
    "\n",
    "        model.compile(loss=self.loss, optimizer=self.optimizer, metrics=self.metrics)\n",
    "        #model.summary() interesting but bad readability\n",
    "        return model"
   ]
  },
  {
   "cell_type": "markdown",
   "metadata": {},
   "source": [
    "#### Calculate Learning Rate\n",
    "The function `step_decay(epoch)` calculates the learning rate for each epoch, which is then scheduled by the `LearningRateScheduler`. When the learning rate stagnates the learning rate gets reduced by `ReduceLROnPlateau`."
   ]
  },
  {
   "cell_type": "code",
   "execution_count": null,
   "metadata": {},
   "outputs": [],
   "source": [
    "from tensorflow.keras.callbacks import LearningRateScheduler\n",
    "from tensorflow.keras.callbacks import ReduceLROnPlateau\n",
    "\n",
    "def step_decay(epoch):\n",
    "    initial_lrate = 0.1\n",
    "    drop = 0.5\n",
    "    epochs_drop = 2\n",
    "    lrate = initial_lrate * math.pow(drop, math.floor((1+epoch)/epochs_drop))\n",
    "    return lrate\n",
    "\n",
    "learning_rate = LearningRateScheduler(step_decay)\n",
    "\n",
    "rlrp = ReduceLROnPlateau(monitor='val_loss', factor=0.1, patience=10, min_delta=1e-7)\n",
    "\n",
    "callbacks_list = [learning_rate, rlrp]"
   ]
  },
  {
   "cell_type": "markdown",
   "metadata": {},
   "source": [
    "* `losses.binary_crossentropy`: binary classification because there are only two labels: \"uninfected\" and \"parasitized\" cells.\n",
    "* `optimizers.Adam`: (A Method for Stochastic Optimization) Gradient-based optimization.\n",
    "* `mertrics=[\"accuracy\"]`: Judge the performance of the model by accuracy."
   ]
  },
  {
   "cell_type": "code",
   "execution_count": null,
   "metadata": {},
   "outputs": [],
   "source": [
    "model = DenseNet(\n",
    "    losses.binary_crossentropy,\n",
    "    optimizers.Adam(lr = 10e-5),\n",
    "    [\"accuracy\"]\n",
    ").create_model(1)"
   ]
  },
  {
   "cell_type": "markdown",
   "metadata": {},
   "source": [
    "## Split Train and Test Data"
   ]
  },
  {
   "cell_type": "code",
   "execution_count": null,
   "metadata": {
    "scrolled": true
   },
   "outputs": [],
   "source": [
    "from sklearn.model_selection import train_test_split\n",
    "\n",
    "train_x , x , train_y , y = train_test_split(cells , labels , test_size = 0.2 , random_state = 111)\n",
    "\n",
    "eval_x , test_x , eval_y , test_y = train_test_split(x , y ,test_size = 0.5 , random_state = 111)"
   ]
  },
  {
   "cell_type": "code",
   "execution_count": null,
   "metadata": {},
   "outputs": [],
   "source": [
    "plt.figure(1 , figsize = (15 ,5))\n",
    "n = 0 \n",
    "for z , j in zip([train_y , eval_y , test_y] , ['train labels','eval labels','test labels']):\n",
    "    n += 1\n",
    "    plt.subplot(1 , 3  , n)\n",
    "    sns.countplot(x = z )\n",
    "    plt.title(j)\n",
    "plt.show()\n",
    "\n",
    "print(\"size of training data set is {}\".format((train_x.shape[0])))\n",
    "print(\"size of validating data set is {}\".format(eval_x.shape[0]))\n",
    "print(\"size of testing data set is {}\".format(test_x.shape[0]))"
   ]
  },
  {
   "cell_type": "markdown",
   "metadata": {},
   "source": [
    "## Train DenseNet"
   ]
  },
  {
   "cell_type": "code",
   "execution_count": null,
   "metadata": {},
   "outputs": [],
   "source": [
    "history = model.fit(train_x, train_y,\n",
    "          validation_data=(eval_x, eval_y),\n",
    "          batch_size=2,\n",
    "          epochs=30,\n",
    "          verbose=1)"
   ]
  },
  {
   "cell_type": "markdown",
   "metadata": {},
   "source": [
    "## Save DenseNet To File"
   ]
  },
  {
   "cell_type": "code",
   "execution_count": null,
   "metadata": {},
   "outputs": [],
   "source": [
    "model.save('cells.h5')"
   ]
  },
  {
   "cell_type": "markdown",
   "metadata": {},
   "source": [
    "## Load DenseNet From File\n",
    "Returns a compiled keras model."
   ]
  },
  {
   "cell_type": "code",
   "execution_count": null,
   "metadata": {},
   "outputs": [],
   "source": [
    "model = load_model('cells.h5')"
   ]
  },
  {
   "cell_type": "markdown",
   "metadata": {},
   "source": [
    "## Evaluate DenseNet Accuracy"
   ]
  },
  {
   "cell_type": "code",
   "execution_count": null,
   "metadata": {},
   "outputs": [],
   "source": [
    "accuracy = model.evaluate(test_x, test_y, verbose=1)\n",
    "print('\\n', 'Test_Accuracy:-', accuracy[1])"
   ]
  },
  {
   "cell_type": "markdown",
   "metadata": {},
   "source": [
    "## Visualize Training"
   ]
  },
  {
   "cell_type": "code",
   "execution_count": null,
   "metadata": {},
   "outputs": [],
   "source": [
    "def show_training_history(history):\n",
    "    fig, ax = plt.subplots(1, 2, figsize=(15,5))\n",
    "    ax[0].set_title('Loss per Epoche')\n",
    "    ax[0].plot(history.epoch, history.history[\"loss\"], label=\"Training\")\n",
    "    ax[0].plot(history.epoch, history.history[\"val_loss\"], label=\"Validation\")\n",
    "    ax[0].set_xlabel('Epoch')\n",
    "    ax[0].set_ylabel('Loss')\n",
    "    ax[1].set_title('Accuracy per Epoche')\n",
    "    ax[1].plot(history.epoch, history.history[\"accuracy\"], label=\"Training\")\n",
    "    ax[1].plot(history.epoch, history.history[\"val_accuracy\"], label=\"Validation\")\n",
    "    ax[1].set_xlabel('Epoch')\n",
    "    ax[1].set_ylabel('Accuracy')\n",
    "    ax[0].legend()\n",
    "    ax[1].legend()\n",
    "    \n",
    "show_training_history(history)"
   ]
  },
  {
   "cell_type": "markdown",
   "metadata": {},
   "source": [
    "## Predict Test Data Results"
   ]
  },
  {
   "cell_type": "code",
   "execution_count": null,
   "metadata": {},
   "outputs": [],
   "source": [
    "results = model.predict(test_x)"
   ]
  },
  {
   "cell_type": "code",
   "execution_count": null,
   "metadata": {},
   "outputs": [],
   "source": [
    "results = np.argmax(results,axis=1)\n",
    "results = pd.Series(results,name=\"Label\")"
   ]
  },
  {
   "cell_type": "code",
   "execution_count": null,
   "metadata": {},
   "outputs": [],
   "source": [
    "#just for debugging\n",
    "len(results)"
   ]
  },
  {
   "cell_type": "markdown",
   "metadata": {},
   "source": [
    "## Visualize Prediction Results"
   ]
  },
  {
   "cell_type": "code",
   "execution_count": null,
   "metadata": {},
   "outputs": [],
   "source": [
    "#from https://stackoverflow.com/questions/19233771/sklearn-plot-confusion-matrix-with-labels\n",
    "from sklearn.metrics import confusion_matrix\n",
    "\n",
    "cm = confusion_matrix(test_y , results)\n",
    "\n",
    "import seaborn as sns\n",
    "import matplotlib.pyplot as plt     \n",
    "\n",
    "ax= plt.subplot()\n",
    "sns.heatmap(cm, annot=True, ax = ax); #annot=True to annotate cells\n",
    "\n",
    "# labels, title and ticks\n",
    "ax.set_xlabel('Predicted labels');ax.set_ylabel('True labels'); \n",
    "ax.set_title('Confusion Matrix'); \n",
    "ax.xaxis.set_ticklabels(['uninfected', 'parasitized']); ax.yaxis.set_ticklabels(['parasitized', 'uninfected']);"
   ]
  },
  {
   "cell_type": "markdown",
   "metadata": {},
   "source": [
    "Plots random prediction results and gives a title to the falsely predicted call images."
   ]
  },
  {
   "cell_type": "code",
   "execution_count": null,
   "metadata": {},
   "outputs": [],
   "source": [
    "plt.figure(1 , figsize = (15 , 9))\n",
    "n = 0 \n",
    "for i in range(49):\n",
    "    n += 1 \n",
    "    r = np.random.randint( 0  , test_x.shape[0] , 1)\n",
    "    plt.subplot(7 , 7 , n)\n",
    "    plt.subplots_adjust(hspace = 0.5 , wspace = 0.5)\n",
    "    plt.imshow(test_x[r[0]])\n",
    "    if((test_y[r[0]]) != (results[r[0]])):\n",
    "        plt.title('true {} : pred {}'.format(test_y[r[0]] , results[r[0]]) )\n",
    "    plt.xticks([]) , plt.yticks([])\n",
    "\n",
    "plt.show()\n"
   ]
  },
  {
   "cell_type": "markdown",
   "metadata": {},
   "source": [
    "## Save Results To CSV"
   ]
  },
  {
   "cell_type": "code",
   "execution_count": null,
   "metadata": {},
   "outputs": [],
   "source": [
    "submission = pd.concat([pd.Series(range(1,9647),name = \"ImageId\"),results],axis = 1)\n",
    "\n",
    "submission.to_csv(\"submission.csv\",index=False)"
   ]
  },
  {
   "cell_type": "markdown",
   "metadata": {},
   "source": [
    "* change sigmoid to relu and get rid of dropout\n",
    "* try DensNet2xx\n",
    "* try shape (64, 64, 3)\n",
    "* Thesis: only parasitized images need to be multiplied by data augmentation, cuz of small filter-relevance\n",
    "* #seq = iaa.Sequential([])\n",
    "TODO\n",
    "* Relu\n",
    "* function heads\n",
    "* specify introduction"
   ]
  },
  {
   "cell_type": "markdown",
   "metadata": {},
   "source": [
    "## Licenses\n",
    "\n",
    "### Notebook License (CC-BY-SA 4.0)\n",
    "\n",
    "*The following license applies to the complete notebook, including code cells. It does however not apply to any referenced external media (e.g., images).*\n",
    "\n",
    "Malaria Project - Implementation<br/>\n",
    "Detecting Malaria cells using CNN and TF 2.0 <br/>\n",
    "by Lukas Wagner, Laila Westphal <br/>\n",
    "is licensed under a [Creative Commons Attribution-ShareAlike 4.0 International License](http://creativecommons.org/licenses/by-sa/4.0/).<br/>\n",
    "\n",
    "\n",
    "### Code License (MIT)\n",
    "\n",
    "*The following license only applies to code cells of the notebook.*\n",
    "\n",
    "Copyright 2019 Lukas Wagner, Laila Westphal\n",
    "\n",
    "Permission is hereby granted, free of charge, to any person obtaining a copy of this software and associated documentation files (the \"Software\"), to deal in the Software without restriction, including without limitation the rights to use, copy, modify, merge, publish, distribute, sublicense, and/or sell copies of the Software, and to permit persons to whom the Software is furnished to do so, subject to the following conditions:\n",
    "\n",
    "The above copyright notice and this permission notice shall be included in all copies or substantial portions of the Software.\n",
    "\n",
    "THE SOFTWARE IS PROVIDED \"AS IS\", WITHOUT WARRANTY OF ANY KIND, EXPRESS OR IMPLIED, INCLUDING BUT NOT LIMITED TO THE WARRANTIES OF MERCHANTABILITY, FITNESS FOR A PARTICULAR PURPOSE AND NONINFRINGEMENT. IN NO EVENT SHALL THE AUTHORS OR COPYRIGHT HOLDERS BE LIABLE FOR ANY CLAIM, DAMAGES OR OTHER LIABILITY, WHETHER IN AN ACTION OF CONTRACT, TORT OR OTHERWISE, ARISING FROM, OUT OF OR IN CONNECTION WITH THE SOFTWARE OR THE USE OR OTHER DEALINGS IN THE SOFTWARE."
   ]
  },
  {
   "cell_type": "markdown",
   "metadata": {},
   "source": [
    "## Acknowledgements\n",
    "Wentz, V. (April 2019). Keras Densenet Malaria (Jupyter Notebook). Retrieved from https://www.kaggle.com/vinicioswentz/keras-densenet-malaria"
   ]
  }
 ],
 "metadata": {
  "kernelspec": {
   "display_name": "Python 3",
   "language": "python",
   "name": "python3"
  },
  "language_info": {
   "codemirror_mode": {
    "name": "ipython",
    "version": 3
   },
   "file_extension": ".py",
   "mimetype": "text/x-python",
   "name": "python",
   "nbconvert_exporter": "python",
   "pygments_lexer": "ipython3",
   "version": "3.7.3"
  }
 },
 "nbformat": 4,
 "nbformat_minor": 1
}
