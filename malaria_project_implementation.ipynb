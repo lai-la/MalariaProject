{
 "cells": [
  {
   "cell_type": "markdown",
   "metadata": {},
   "source": [
    "# Malaria Project - Implementation\n",
    "## Detecting Malaria cells using CNN and TF 2.0\n",
    "\n",
    "\n",
    "### By:\n",
    "- Lukas Wagner s0556753\n",
    "- Laila Westphal s0556469\n"
   ]
  },
  {
   "cell_type": "markdown",
   "metadata": {},
   "source": [
    "## Table of Contents:\n",
    "* [Introduction](#Introduction)\n",
    "* [Brief discussion about existing kernels](#Brief-discussion-about-existing-kernels)\n",
    "  * [Kernel 1](#Kernel-1:-Detecting-Malaria-cells-using-Convolutional-Neural-Network)\n",
    "  * Kernel 2\n",
    "* [Getting Started](#Getting-Started) \n",
    "  * [Imports](#Imports)\n",
    "  * [Load Data](#LoadData)\n",
    "* [Preprocess Data](#Preprocess-Data)\n",
    "  * [Feature Engineering](#Feature-Engineering)\n",
    "  * [Data Augmentation](#Data-Augmentation)\n",
    "  * [Visualizing Augmented Data](#Visualizing-Augmented-Data)\n",
    "  * [Generate Data and Labels](#Generate-all-Data-and-Labels)\n",
    "  * [Save/Load Data](#Save/Load-Data)\n",
    "  * Split Data\n",
    "* Data-Visualization\n",
    "* Setup CNN\n",
    "* Train data\n",
    "* Evaluate?\n",
    "* Predictions using test data\n",
    "* Visualize Accuracy\n",
    "* Results, Confusion Matrix\n",
    "* Visualize Results\n",
    "* Licenses\n",
    "* Acknowledgements\n"
   ]
  },
  {
   "cell_type": "markdown",
   "metadata": {},
   "source": []
  },
  {
   "cell_type": "markdown",
   "metadata": {},
   "source": [
    "# Introduction"
   ]
  },
  {
   "cell_type": "markdown",
   "metadata": {},
   "source": [
    "# Brief discussion about existing kernels\n",
    "\n",
    "In this section two kernels from the kaggle website dealing with the malaria dataset will be analized regarding data augmentation, data-split, cnn-architecture, used activation functions and obtained results (accuracy ...).\n",
    "They are being used as a guideline for our own implementation."
   ]
  },
  {
   "cell_type": "markdown",
   "metadata": {},
   "source": [
    "## Kernel 1: Detecting Malaria cells using Convolutional Neural Network\n",
    "### By: Kushal Mahindrakar\n",
    "Source:https://www.kaggle.com/kushal1996/detecting-malaria-cnn\n",
    "\n",
    "#### Data Augmentation:\n",
    "- Done using the Python Image Libary (PIL) that provides support for opening, editing and saving many different data formats\n",
    "- The quantity of the \"Parasitized\" data is being quadrupled.\n",
    "- The quantity of the \"Uninfected\" data is being tripled.\n",
    "\n",
    "#### Data-Split\n",
    "The data in this kernel is being split into training, evaluation and test data:\n",
    "   - training-data: 80%\n",
    "   - evaluation-data: 10%\n",
    "   - test-data: 10%\n",
    "\n",
    "#### Used CNN-Architecture and activation functions:\n",
    "\n",
    "| Layer-Type   | Units | Nb_Filters | KernelSize PoolSize | Padding | Activation | Stride |\n",
    "|--------------|-------|------------|---------------------|---------|------------|--------|\n",
    "| Input        | _     | _          | _                   | _       | _          | _      |\n",
    "|  Conv        | _     | 50         | 7x7                 | same    | ReLU       | _      |\n",
    "| Conv         | _     | 90         | 3x3                 | valid   | ReLU       | _      |\n",
    "| Conv         | _     | 10         | 5x5                 | same    | ReLU       | _      |\n",
    "| Pool         | _     | _          | 2x2                 | _       | _          | 2      |\n",
    "| Conv         | _     | 5          | 3x3                 | same    | ReLU       | _      |\n",
    "| Pool         | _     | _          | 2x2                 | same    | _          | 2      |\n",
    "| Pool_flatten | _     | _          | _                   | _       | _          | _      |\n",
    "| FC           | 2000  | _          | _                   | _       | ReLU       | _      |\n",
    "| FC           | 1000  | _          | _                   | _       | ReLU       | _      |\n",
    "| FC           | 500   | _          | _                   | _       | ReLU       | _      |\n",
    "| Logits       | 2     | _          | _                   | _       | _          | _      |\n",
    "\n",
    "#### Obtained Results:\n",
    "\n",
    "| _           | precision |   recall | f1-score |  support |\n",
    "|-------------|-----------|----------|----------|----------|\n",
    "|           0 |      0.90 |     0.93 |     0.91 |     4223 |\n",
    "|           1 |      0.95 |     0.92 |     0.93 |     5423 |\n",
    "|_            | _         | _        | _        | _        |\n",
    "|   micro avg |      0.92 |     0.92 |     0.92 |     9646 |\n",
    "|   macro avg |      0.92 |     0.92 |     0.92 |     9646 |\n",
    "|weighted avg |      0.92 |     0.92 |     0.92 |     9646 |\n",
    "| _           | _         | _        | _        | _        |\n",
    "|0.9238026124818578\n",
    "\n"
   ]
  },
  {
   "cell_type": "markdown",
   "metadata": {},
   "source": [
    "## Kernel 2:\n",
    "suggestion: https://www.kaggle.com/sharp1/malaria-cells-classification-through-keras"
   ]
  },
  {
   "cell_type": "markdown",
   "metadata": {},
   "source": [
    "# Getting Started"
   ]
  },
  {
   "cell_type": "markdown",
   "metadata": {},
   "source": [
    "## Imports"
   ]
  },
  {
   "cell_type": "code",
   "execution_count": 9,
   "metadata": {},
   "outputs": [],
   "source": [
    "# Uncomment to install TF 2.0 if you don't have it\n",
    "#!pip install tensorflow==2.0.0-beta1"
   ]
  },
  {
   "cell_type": "code",
   "execution_count": 10,
   "metadata": {},
   "outputs": [],
   "source": [
    "# INCLUDE DOWNLOAD POSSIBILITY FOR DATA"
   ]
  },
  {
   "cell_type": "code",
   "execution_count": 46,
   "metadata": {},
   "outputs": [],
   "source": [
    "# linear algebra\n",
    "import numpy as np\n",
    "import tensorflow as tf\n",
    "from tensorflow.keras import layers, models\n",
    "# Split arrays or matrices into random train and test subsets\n",
    "from sklearn.model_selection import train_test_split\n",
    "import matplotlib.pyplot as plt\n",
    "# computer vision library, image processing\n",
    "import cv2\n",
    "# statistical data visualization\n",
    "import seaborn as sns\n",
    "# used for data augmentation\n",
    "from PIL import Image\n",
    "from PIL import ImageOps\n",
    "from PIL import ImageFilter\n",
    "# to use operating system dependent functionality\n",
    "import os\n",
    "\n",
    "import pandas as pd\n"
   ]
  },
  {
   "cell_type": "markdown",
   "metadata": {},
   "source": [
    "## Load Data"
   ]
  },
  {
   "cell_type": "code",
   "execution_count": 12,
   "metadata": {},
   "outputs": [],
   "source": [
    "# Loads data by classes/categories (e.g Parasitized, Uninfected)\n",
    "def loadData(path):\n",
    "        \"__________________________________________\"\n",
    "        \"    Args:\"\n",
    "        \"        path: path to your data\"\n",
    "        \"    return: Dict((class, label): list<data>)\"\n",
    "        \"__________________________________________\"\n",
    "\n",
    "        clazzes = os.listdir(path)\n",
    "        clazz_data = dict()\n",
    "        for clazz, label in zip(clazzes, range(len(clazzes))):\n",
    "            clazz_data.update({(clazz, label) : (os.listdir(path + \"/\" + clazz))})\n",
    "        return clazz_data\n",
    "        "
   ]
  },
  {
   "cell_type": "code",
   "execution_count": 13,
   "metadata": {},
   "outputs": [
    {
     "name": "stdout",
     "output_type": "stream",
     "text": [
      "dict_keys([('Parasitized', 0), ('Uninfected', 1)])\n",
      "Parasitized 0: 13780\n",
      "Uninfected 1: 13780\n"
     ]
    }
   ],
   "source": [
    "# Check whether you obtained the right results\n",
    "check_data = loadData(\"data/cell_images\")\n",
    "print(check_data.keys())\n",
    "for clazz in check_data:\n",
    "    print(clazz[0] + \" \" + str(clazz[1]) + \": \" + str(len(check_data.get(clazz))))"
   ]
  },
  {
   "cell_type": "markdown",
   "metadata": {},
   "source": [
    "# Preprocess Data\n",
    "\n",
    "In this section the data will be preprocessed in order to fulfil the requirements we have:\n",
    "- feature engineering: here we will eliminate files that are no images (e.g. my Uninfected and Parasitized folders both contain a temp file which we don'T need and that would cause the program to fail)\n",
    "- resize the image to be of the input size we want to use\n",
    "- mode: decide on RGB, Greyscale..."
   ]
  },
  {
   "cell_type": "markdown",
   "metadata": {},
   "source": [
    "## Feature Engineering"
   ]
  },
  {
   "cell_type": "code",
   "execution_count": 14,
   "metadata": {},
   "outputs": [],
   "source": [
    "def preprocessData(image_path, h_img, w_img, mode='RGB'):\n",
    "    \"__________________________________________\"\n",
    "    \"    Args:\"\n",
    "    \"       image_path: image path\"\n",
    "    \"       h_img: new height of image\"\n",
    "    \"       w_img: new idth of image\"\n",
    "    \"       mode='RGB\"\n",
    "    \"    return: preprocessed image\"\n",
    "    \"__________________________________________\"\n",
    "    image = cv2.imread(image_path)\n",
    "    if image is None:\n",
    "        return None\n",
    "    img_as_array = Image.fromarray(image, mode)\n",
    "    preprocessed_img = img_as_array.resize((h_img,w_img))\n",
    "    return preprocessed_img\n",
    "    "
   ]
  },
  {
   "cell_type": "markdown",
   "metadata": {},
   "source": [
    "## Data Augmentation\n",
    "- form of regularization\n",
    "- useful for cells because impossible to predict position they will have\n",
    "--> find source"
   ]
  },
  {
   "cell_type": "code",
   "execution_count": 15,
   "metadata": {},
   "outputs": [],
   "source": [
    "def augmentData(image, label, rotations=None, mirror=False, blur=False):\n",
    "    img_data = []\n",
    "    img_labels = []\n",
    "    if rotations:\n",
    "        for rot in rotations:\n",
    "            im = image.rotate(rot)\n",
    "            img_data.append(np.array(im))\n",
    "            img_labels.append(label)\n",
    "    if mirror:\n",
    "        #for mi in mirror:\n",
    "            #im = image.transpose(Image.mirror)\n",
    "        im = ImageOps.mirror(image)\n",
    "        #img_data.append(np.array(im))\n",
    "        img_data.append(np.array(im))\n",
    "        img_labels.append(label)\n",
    "    if blur:\n",
    "        im = image.filter(ImageFilter.BLUR)\n",
    "        img_data.append(np.array(im))\n",
    "        img_labels.append(label)\n",
    "    return img_data, img_labels\n",
    "        \n",
    "    "
   ]
  },
  {
   "cell_type": "markdown",
   "metadata": {},
   "source": [
    "## Visualizing Augmented Data"
   ]
  },
  {
   "cell_type": "code",
   "execution_count": 16,
   "metadata": {},
   "outputs": [
    {
     "data": {
      "image/png": "[encoded data removed]",
      "text/plain": [
       "<Figure size 1440x1440 with 6 Axes>"
      ]
     },
     "metadata": {},
     "output_type": "display_data"
    }
   ],
   "source": [
    "image = preprocessData(\"data/cell_images/Parasitized/C99P60ThinF_IMG_20150918_141520_cell_107.png\", 50,50)\n",
    "augmented, augl = augmentData(image, 0 ,rotations=[45,75,95], mirror = True, blur = True)\n",
    "images = []\n",
    "images.append(np.array(image))\n",
    "images.extend(augmented)\n",
    "#print(len(images))\n",
    "titles = [\"original\", \"rotated 45°\", \"rotated 75°\", \"rotated 95°\", \"mirrored\", \"blured\"]\n",
    "plt.figure(1, figsize=(20,20))\n",
    "n = 0\n",
    "for img in images:\n",
    "    n += 1\n",
    "    plt.subplot(3,3,n)\n",
    "    plt.subplots_adjust(hspace=0.3, wspace= 0.3)\n",
    "    plt.imshow(img)\n",
    "    plt.title(titles[n-1], fontsize=25)\n",
    "    plt.xticks([]), plt.yticks([])\n",
    "\n",
    "plt.show()"
   ]
  },
  {
   "cell_type": "markdown",
   "metadata": {},
   "source": [
    "# Generate all Data and Labels"
   ]
  },
  {
   "cell_type": "code",
   "execution_count": 20,
   "metadata": {},
   "outputs": [],
   "source": [
    "def generateData(path, h_img, w_img, mode='RGB', rotations=None, mirror=False, blur=False):\n",
    "    data = []\n",
    "    labels = []\n",
    "    clazz_data = loadData(path)\n",
    "    for clazz in clazz_data:\n",
    "        for img in clazz_data.get(clazz):\n",
    "            img_path = path + \"/\" + clazz[0] + \"/\" + img\n",
    "            #print(img_path)\n",
    "            prep_img = preprocessData(img_path, h_img, w_img)\n",
    "            #print(np.array(prep_img).shape)\n",
    "            if prep_img is None:\n",
    "                continue\n",
    "            data.append(np.array(prep_img))\n",
    "            labels.append(clazz[1])\n",
    "            augm_data, augm_label = augmentData(prep_img,clazz[1], rotations, mirror, blur)\n",
    "            data.extend(augm_data)\n",
    "            labels.extend(augm_label)\n",
    "    return data, labels\n",
    "        \n",
    "    "
   ]
  },
  {
   "cell_type": "code",
   "execution_count": 22,
   "metadata": {},
   "outputs": [
    {
     "name": "stdout",
     "output_type": "stream",
     "text": [
      "Number of data: 110232 \n",
      "Number of labels: 110232\n",
      "Expecting labels to be 0 : l[55114] = 0, l[55115] = 0 \n",
      "Expecting labels to be 1 : l[55116] = 1, l[55117] = 1\n"
     ]
    }
   ],
   "source": [
    "#checking whether data and label genration work properly\n",
    "data, labels = generateData(\"data/cell_images\", 50, 50, rotations=[45,75], blur = True)\n",
    "\n",
    "#There should be 110232 images in total\n",
    "print('Number of data: {} \\nNumber of labels: {}'.format(len(data), len(labels)))\n",
    "\n",
    "# There should be 55116 images for each class\n",
    "print('Expecting labels to be 0 : l[55114] = {}, l[55115] = {} \\nExpecting labels to be 1 : l[55116] = {}, l[55117] = {}'.format(labels[55114],labels[55115],labels[55116],labels[55117]))"
   ]
  },
  {
   "cell_type": "markdown",
   "metadata": {},
   "source": [
    "## Save/Load Data"
   ]
  },
  {
   "cell_type": "code",
   "execution_count": 25,
   "metadata": {},
   "outputs": [],
   "source": [
    "def saveData(cells, labels):\n",
    "    cells = np.array(data)                 \n",
    "    labelz = np.array(labels)\n",
    "    #print(cells.shape)\n",
    "    #print(labelz.shape)\n",
    "    np.save('cell_data', cells)\n",
    "    np.save('cell_labels', labelz)\n"
   ]
  },
  {
   "cell_type": "code",
   "execution_count": null,
   "metadata": {},
   "outputs": [],
   "source": [
    "#uncomment if you want to save your results\n",
    "#saveData(data, labels)"
   ]
  },
  {
   "cell_type": "code",
   "execution_count": 30,
   "metadata": {},
   "outputs": [
    {
     "name": "stdout",
     "output_type": "stream",
     "text": [
      "number of data: 110232 \n",
      "number of labels: 110232\n"
     ]
    }
   ],
   "source": [
    "# from: https://www.kaggle.com/sharp1/malaria-cells-classification-through-keras\n",
    "def loadData(data, labels):\n",
    "    c=np.load(data + \".npy\")\n",
    "    l=np.load(labels + \".npy\")\n",
    "    return c,l"
   ]
  },
  {
   "cell_type": "code",
   "execution_count": null,
   "metadata": {},
   "outputs": [],
   "source": [
    "c,l = loadData(\"cell_data\",\"cell_labels\")\n",
    "print('number of data: {} \\nnumber of labels: {}'.format(len(c), len(l)))"
   ]
  },
  {
   "cell_type": "markdown",
   "metadata": {},
   "source": [
    "## Shuffle and Normalize Data"
   ]
  },
  {
   "cell_type": "code",
   "execution_count": 31,
   "metadata": {},
   "outputs": [],
   "source": [
    "# shuffle data\n",
    "\n",
    "# Return evenly spaced values within a given interval(Here: 0-110231)\n",
    "# For integer arguments the function is equivalent to the Python built-in range function, but returns an\n",
    "# ndarray rather than a list.\n",
    "r = np.arange(cells.shape[0])\n",
    "\n",
    "# shuffles all the values in r\n",
    "np.random.shuffle(r)\n",
    "# rearanges/shuffles order of cells\n",
    "cells = c[r]\n",
    "# rearanges/shuffles order of labels\n",
    "labelz = l[r]\n"
   ]
  },
  {
   "cell_type": "code",
   "execution_count": 34,
   "metadata": {},
   "outputs": [],
   "source": [
    "# Copy of the array, cast to a specified type.\n",
    "cells = cells.astype(np.float32)\n",
    "labelz = labelz.astype(np.int32)\n",
    "# Pixel values of cells range from 0 to 255\n",
    "# To scale them to range from 0 to 1 -> divide by 255\n",
    "cells = cells/255.0"
   ]
  },
  {
   "cell_type": "markdown",
   "metadata": {},
   "source": [
    "## Split Data"
   ]
  },
  {
   "cell_type": "code",
   "execution_count": 39,
   "metadata": {},
   "outputs": [],
   "source": [
    "# test_size: represent the proportion of the dataset to include in the test split\n",
    "# random_state: random_state is the random number generator; If None, the random number generator is the RandomState \n",
    "# instance used by np.random. -> optional (default:none)\n",
    "train_x, test_x, train_y, test_y = train_test_split(cells, labels,\n",
    "                                         test_size = 0.2,\n",
    "                                         random_state = 111)"
   ]
  },
  {
   "cell_type": "code",
   "execution_count": 51,
   "metadata": {},
   "outputs": [
    {
     "data": {
      "image/png": "[encoded data removed]",
      "text/plain": [
       "<Figure size 432x288 with 1 Axes>"
      ]
     },
     "metadata": {},
     "output_type": "display_data"
    }
   ],
   "source": [
    "# Plot split labels\n",
    "# Visualize repartition of data\n",
    "objects = ('train_0', 'train_1', 'test_0', 'test_1')\n",
    "y_pos = np.arange(len(objects))\n",
    "a = []\n",
    "b = []\n",
    "for i in train_y:\n",
    "    if i == 0:\n",
    "        a.append(i)\n",
    "    else:\n",
    "        b.append(i)\n",
    "        \n",
    "c = []\n",
    "e = []\n",
    "for j in test_y:\n",
    "    if j == 0:\n",
    "        c.append(j)\n",
    "    else:\n",
    "        e.append(j)\n",
    "performance = [len(a),len(b),len(c),len(e)]\n",
    "\n",
    "plt.barh(y_pos, performance, align='center', alpha=0.5)\n",
    "plt.yticks(y_pos, objects)\n",
    "plt.xlabel('Number')\n",
    "plt.title('Number of cell images per training and testing categorie')\n",
    "\n",
    "plt.show()"
   ]
  },
  {
   "cell_type": "markdown",
   "metadata": {},
   "source": [
    "## Licenses\n",
    "\n",
    "### Notebook License (CC-BY-SA 4.0)\n",
    "\n",
    "*The following license applies to the complete notebook, including code cells. It does however not apply to any referenced external media (e.g., images).*\n",
    "\n",
    "Malaria Project - Implementation<br/>\n",
    "Detecting Malaria cells using CNN and TF 2.0 <br/>\n",
    "by Lukas Wagner, Laila Westphal <br/>\n",
    "is licensed under a [Creative Commons Attribution-ShareAlike 4.0 International License](http://creativecommons.org/licenses/by-sa/4.0/).<br/>\n",
    "\n",
    "\n",
    "### Code License (MIT)\n",
    "\n",
    "*The following license only applies to code cells of the notebook.*\n",
    "\n",
    "Copyright 2019 Lukas Wagner, Laila Westphal\n",
    "\n",
    "Permission is hereby granted, free of charge, to any person obtaining a copy of this software and associated documentation files (the \"Software\"), to deal in the Software without restriction, including without limitation the rights to use, copy, modify, merge, publish, distribute, sublicense, and/or sell copies of the Software, and to permit persons to whom the Software is furnished to do so, subject to the following conditions:\n",
    "\n",
    "The above copyright notice and this permission notice shall be included in all copies or substantial portions of the Software.\n",
    "\n",
    "THE SOFTWARE IS PROVIDED \"AS IS\", WITHOUT WARRANTY OF ANY KIND, EXPRESS OR IMPLIED, INCLUDING BUT NOT LIMITED TO THE WARRANTIES OF MERCHANTABILITY, FITNESS FOR A PARTICULAR PURPOSE AND NONINFRINGEMENT. IN NO EVENT SHALL THE AUTHORS OR COPYRIGHT HOLDERS BE LIABLE FOR ANY CLAIM, DAMAGES OR OTHER LIABILITY, WHETHER IN AN ACTION OF CONTRACT, TORT OR OTHERWISE, ARISING FROM, OUT OF OR IN CONNECTION WITH THE SOFTWARE OR THE USE OR OTHER DEALINGS IN THE SOFTWARE."
   ]
  },
  {
   "cell_type": "markdown",
   "metadata": {},
   "source": [
    "## Acknowledgements\n",
    "\n"
   ]
  },
  {
   "cell_type": "code",
   "execution_count": null,
   "metadata": {},
   "outputs": [],
   "source": []
  }
 ],
 "metadata": {
  "kernelspec": {
   "display_name": "Python 3",
   "language": "python",
   "name": "python3"
  },
  "language_info": {
   "codemirror_mode": {
    "name": "ipython",
    "version": 3
   },
   "file_extension": ".py",
   "mimetype": "text/x-python",
   "name": "python",
   "nbconvert_exporter": "python",
   "pygments_lexer": "ipython3",
   "version": "3.6.7"
  }
 },
 "nbformat": 4,
 "nbformat_minor": 2
}
