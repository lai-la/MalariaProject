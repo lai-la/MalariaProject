{
 "cells": [
  {
   "cell_type": "markdown",
   "metadata": {},
   "source": [
    "# Malaria Project - Implementation\n",
    "## Detecting Malaria cells using CNN and TF 2.0\n",
    "\n",
    "\n",
    "### By:\n",
    "- Lukas Wagner s0556753\n",
    "- Laila Westphal s0556469\n"
   ]
  },
  {
   "cell_type": "markdown",
   "metadata": {},
   "source": [
    "## Table of Contents:\n",
    "* [Introduction](#Introduction)\n",
    "* [Brief discussion about existing kernels](#Brief-discussion-about-existing-kernels)\n",
    "  * [Kernel 1](#Kernel-1:-Detecting-Malaria-cells-using-Convolutional-Neural-Network)\n",
    "  * Kernel 2\n",
    "* [Getting Started](#Getting-Started) \n",
    "  * [Imports](#Imports)\n",
    "  * [Load Data](#LoadData)\n",
    "* Preprocess Data\n",
    "  * Data Augmentation\n",
    "  * Split Data\n",
    "* Data-Visualization\n",
    "* Setup CNN\n",
    "* Train data\n",
    "* Evaluate?\n",
    "* Predictions using test data\n",
    "* Visualize Accuracy\n",
    "* Results, Confusion Matrix\n",
    "* Visualize Results\n",
    "* Licenses\n",
    "* Acknowledgements\n"
   ]
  },
  {
   "cell_type": "markdown",
   "metadata": {},
   "source": []
  },
  {
   "cell_type": "markdown",
   "metadata": {},
   "source": [
    "# Introduction"
   ]
  },
  {
   "cell_type": "markdown",
   "metadata": {},
   "source": [
    "# Brief discussion about existing kernels\n",
    "\n",
    "In this section two kernels from the kaggle website dealing with the malaria dataset will be analized regarding data augmentation, data-split, cnn-architecture, used activation functions and obtained results (accuracy ...).\n",
    "They are being used as a guideline for our own implementation."
   ]
  },
  {
   "cell_type": "markdown",
   "metadata": {},
   "source": [
    "## Kernel 1: Detecting Malaria cells using Convolutional Neural Network\n",
    "### By: Kushal Mahindrakar\n",
    "Source:https://www.kaggle.com/kushal1996/detecting-malaria-cnn\n",
    "\n",
    "#### Data Augmentation:\n",
    "- Done using the Python Image Libary (PIL) that provides support for opening, editing and saving many different data formats\n",
    "- The quantity of the \"Parasitized\" data is being quadrupled.\n",
    "- The quantity of the \"Uninfected\" data is being tripled.\n",
    "\n",
    "#### Data-Split\n",
    "The data in this kernel is being split into training, evaluation and test data:\n",
    "   - training-data: 80%\n",
    "   - evaluation-data: 10%\n",
    "   - test-data: 10%\n",
    "\n",
    "#### Used CNN-Architecture and activation functions:\n",
    "\n",
    "| Layer-Type   | Units | Nb_Filters | KernelSize PoolSize | Padding | Activation | Stride |\n",
    "|--------------|-------|------------|---------------------|---------|------------|--------|\n",
    "| Input        | _     | _          | _                   | _       | _          | _      |\n",
    "|  Conv        | _     | 50         | 7x7                 | same    | ReLU       | _      |\n",
    "| Conv         | _     | 90         | 3x3                 | valid   | ReLU       | _      |\n",
    "| Conv         | _     | 10         | 5x5                 | same    | ReLU       | _      |\n",
    "| Pool         | _     | _          | 2x2                 | _       | _          | 2      |\n",
    "| Conv         | _     | 5          | 3x3                 | same    | ReLU       | _      |\n",
    "| Pool         | _     | _          | 2x2                 | same    | _          | 2      |\n",
    "| Pool_flatten | _     | _          | _                   | _       | _          | _      |\n",
    "| FC           | 2000  | _          | _                   | _       | ReLU       | _      |\n",
    "| FC           | 1000  | _          | _                   | _       | ReLU       | _      |\n",
    "| FC           | 500   | _          | _                   | _       | ReLU       | _      |\n",
    "| Logits       | 2     | _          | _                   | _       | _          | _      |\n",
    "\n",
    "#### Obtained Results:\n",
    "\n",
    "| _           | precision |   recall | f1-score |  support |\n",
    "|-------------|-----------|----------|----------|----------|\n",
    "|           0 |      0.90 |     0.93 |     0.91 |     4223 |\n",
    "|           1 |      0.95 |     0.92 |     0.93 |     5423 |\n",
    "|_            | _         | _        | _        | _        |\n",
    "|   micro avg |      0.92 |     0.92 |     0.92 |     9646 |\n",
    "|   macro avg |      0.92 |     0.92 |     0.92 |     9646 |\n",
    "|weighted avg |      0.92 |     0.92 |     0.92 |     9646 |\n",
    "| _           | _         | _        | _        | _        |\n",
    "|0.9238026124818578\n",
    "\n"
   ]
  },
  {
   "cell_type": "markdown",
   "metadata": {},
   "source": [
    "# Getting Started"
   ]
  },
  {
   "cell_type": "markdown",
   "metadata": {},
   "source": [
    "## Imports"
   ]
  },
  {
   "cell_type": "code",
   "execution_count": 17,
   "metadata": {},
   "outputs": [],
   "source": [
    "# Uncomment to install TF 2.0 if you don't have it\n",
    "#!pip install tensorflow==2.0.0-beta1"
   ]
  },
  {
   "cell_type": "code",
   "execution_count": 20,
   "metadata": {},
   "outputs": [],
   "source": [
    "# INCLUDE DOWNLOAD POSSIBILITY FOR DATA"
   ]
  },
  {
   "cell_type": "code",
   "execution_count": 2,
   "metadata": {},
   "outputs": [],
   "source": [
    "# linear algebra\n",
    "import numpy as np\n",
    "import tensorflow as tf\n",
    "from tensorflow.keras import layers, models\n",
    "import matplotlib.pyplot as plt\n",
    "# used for data augmentation\n",
    "from PIL import Image\n",
    "# to use operating system dependent functionality\n",
    "import os"
   ]
  },
  {
   "cell_type": "markdown",
   "metadata": {},
   "source": [
    "## Load Data"
   ]
  },
  {
   "cell_type": "code",
   "execution_count": 17,
   "metadata": {},
   "outputs": [],
   "source": [
    "def load_data(path):\n",
    "    data_categories = os.listdir(path)\n",
    "    categories = dict()\n",
    "    for categorie in data_categories:\n",
    "        categories.update({categorie : os.listdir(path + \"/\" + categorie)})\n",
    "    return categories\n",
    "        "
   ]
  },
  {
   "cell_type": "code",
   "execution_count": 21,
   "metadata": {},
   "outputs": [
    {
     "ename": "TypeError",
     "evalue": "must be str, not int",
     "output_type": "error",
     "traceback": [
      "\u001b[0;31m---------------------------------------------------------------------------\u001b[0m",
      "\u001b[0;31mTypeError\u001b[0m                                 Traceback (most recent call last)",
      "\u001b[0;32m<ipython-input-21-a6e6d51fd380>\u001b[0m in \u001b[0;36m<module>\u001b[0;34m\u001b[0m\n\u001b[1;32m      2\u001b[0m \u001b[0mcheck_data\u001b[0m \u001b[0;34m=\u001b[0m \u001b[0mload_data\u001b[0m\u001b[0;34m(\u001b[0m\u001b[0;34m\"data/cell_images\"\u001b[0m\u001b[0;34m)\u001b[0m\u001b[0;34m\u001b[0m\u001b[0;34m\u001b[0m\u001b[0m\n\u001b[1;32m      3\u001b[0m \u001b[0;32mfor\u001b[0m \u001b[0mclazz\u001b[0m \u001b[0;32min\u001b[0m \u001b[0mcheck_data\u001b[0m\u001b[0;34m:\u001b[0m\u001b[0;34m\u001b[0m\u001b[0;34m\u001b[0m\u001b[0m\n\u001b[0;32m----> 4\u001b[0;31m     \u001b[0mprint\u001b[0m\u001b[0;34m(\u001b[0m\u001b[0mclazz\u001b[0m \u001b[0;34m+\u001b[0m \u001b[0;34m\":\"\u001b[0m \u001b[0;34m+\u001b[0m \u001b[0mlen\u001b[0m\u001b[0;34m(\u001b[0m\u001b[0mcheck_data\u001b[0m\u001b[0;34m.\u001b[0m\u001b[0mget\u001b[0m\u001b[0;34m(\u001b[0m\u001b[0mclazz\u001b[0m\u001b[0;34m)\u001b[0m\u001b[0;34m)\u001b[0m\u001b[0;34m)\u001b[0m\u001b[0;34m\u001b[0m\u001b[0;34m\u001b[0m\u001b[0m\n\u001b[0m",
      "\u001b[0;31mTypeError\u001b[0m: must be str, not int"
     ]
    }
   ],
   "source": [
    "# Check whether you obtained the right results\n",
    "check_data = load_data(\"data/cell_images\")\n",
    "for clazz in check_data:\n",
    "    print(clazz + \":\" + len(check_data.get(clazz)))"
   ]
  },
  {
   "cell_type": "code",
   "execution_count": null,
   "metadata": {},
   "outputs": [],
   "source": []
  },
  {
   "cell_type": "code",
   "execution_count": null,
   "metadata": {},
   "outputs": [],
   "source": []
  },
  {
   "cell_type": "code",
   "execution_count": null,
   "metadata": {},
   "outputs": [],
   "source": []
  },
  {
   "cell_type": "code",
   "execution_count": null,
   "metadata": {},
   "outputs": [],
   "source": []
  },
  {
   "cell_type": "code",
   "execution_count": null,
   "metadata": {},
   "outputs": [],
   "source": []
  },
  {
   "cell_type": "code",
   "execution_count": null,
   "metadata": {},
   "outputs": [],
   "source": []
  },
  {
   "cell_type": "code",
   "execution_count": null,
   "metadata": {},
   "outputs": [],
   "source": []
  },
  {
   "cell_type": "code",
   "execution_count": null,
   "metadata": {},
   "outputs": [],
   "source": []
  },
  {
   "cell_type": "code",
   "execution_count": null,
   "metadata": {},
   "outputs": [],
   "source": []
  },
  {
   "cell_type": "code",
   "execution_count": null,
   "metadata": {},
   "outputs": [],
   "source": []
  },
  {
   "cell_type": "code",
   "execution_count": null,
   "metadata": {},
   "outputs": [],
   "source": []
  },
  {
   "cell_type": "code",
   "execution_count": null,
   "metadata": {},
   "outputs": [],
   "source": []
  },
  {
   "cell_type": "code",
   "execution_count": null,
   "metadata": {},
   "outputs": [],
   "source": []
  },
  {
   "cell_type": "code",
   "execution_count": null,
   "metadata": {},
   "outputs": [],
   "source": []
  },
  {
   "cell_type": "markdown",
   "metadata": {},
   "source": [
    "## Licenses\n",
    "\n",
    "### Notebook License (CC-BY-SA 4.0)\n",
    "\n",
    "*The following license applies to the complete notebook, including code cells. It does however not apply to any referenced external media (e.g., images).*\n",
    "\n",
    "Malaria Project - Implementation<br/>\n",
    "Detecting Malaria cells using CNN and TF 2.0 <br/>\n",
    "by Lukas Wagner, Laila Westphal <br/>\n",
    "is licensed under a [Creative Commons Attribution-ShareAlike 4.0 International License](http://creativecommons.org/licenses/by-sa/4.0/).<br/>\n",
    "\n",
    "\n",
    "### Code License (MIT)\n",
    "\n",
    "*The following license only applies to code cells of the notebook.*\n",
    "\n",
    "Copyright 2019 Lukas Wagner, Laila Westphal\n",
    "\n",
    "Permission is hereby granted, free of charge, to any person obtaining a copy of this software and associated documentation files (the \"Software\"), to deal in the Software without restriction, including without limitation the rights to use, copy, modify, merge, publish, distribute, sublicense, and/or sell copies of the Software, and to permit persons to whom the Software is furnished to do so, subject to the following conditions:\n",
    "\n",
    "The above copyright notice and this permission notice shall be included in all copies or substantial portions of the Software.\n",
    "\n",
    "THE SOFTWARE IS PROVIDED \"AS IS\", WITHOUT WARRANTY OF ANY KIND, EXPRESS OR IMPLIED, INCLUDING BUT NOT LIMITED TO THE WARRANTIES OF MERCHANTABILITY, FITNESS FOR A PARTICULAR PURPOSE AND NONINFRINGEMENT. IN NO EVENT SHALL THE AUTHORS OR COPYRIGHT HOLDERS BE LIABLE FOR ANY CLAIM, DAMAGES OR OTHER LIABILITY, WHETHER IN AN ACTION OF CONTRACT, TORT OR OTHERWISE, ARISING FROM, OUT OF OR IN CONNECTION WITH THE SOFTWARE OR THE USE OR OTHER DEALINGS IN THE SOFTWARE."
   ]
  },
  {
   "cell_type": "markdown",
   "metadata": {},
   "source": [
    "## Acknowledgements\n",
    "\n"
   ]
  },
  {
   "cell_type": "code",
   "execution_count": null,
   "metadata": {},
   "outputs": [],
   "source": []
  }
 ],
 "metadata": {
  "kernelspec": {
   "display_name": "Python 3",
   "language": "python",
   "name": "python3"
  },
  "language_info": {
   "codemirror_mode": {
    "name": "ipython",
    "version": 3
   },
   "file_extension": ".py",
   "mimetype": "text/x-python",
   "name": "python",
   "nbconvert_exporter": "python",
   "pygments_lexer": "ipython3",
   "version": "3.6.7"
  }
 },
 "nbformat": 4,
 "nbformat_minor": 2
}
